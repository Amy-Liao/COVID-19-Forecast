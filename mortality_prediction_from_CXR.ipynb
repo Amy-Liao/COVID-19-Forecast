{
  "nbformat": 4,
  "nbformat_minor": 0,
  "metadata": {
    "colab": {
      "name": "ML AS3_update.ipynb",
      "provenance": [],
      "collapsed_sections": []
    },
    "kernelspec": {
      "name": "python3",
      "display_name": "Python 3"
    },
    "accelerator": "GPU"
  },
  "cells": [
    {
      "cell_type": "code",
      "metadata": {
        "id": "gObqizb8rRYp"
      },
      "source": [
        "import pandas as pd\n",
        "import numpy as np\n",
        "from pandas import read_csv\n",
        "from google.colab import files\n",
        "import os\n",
        "import zipfile\n",
        "import tensorflow as tf\n",
        "import matplotlib.pyplot as plt"
      ],
      "execution_count": 1,
      "outputs": []
    },
    {
      "cell_type": "markdown",
      "source": [
        "# Set Up"
      ],
      "metadata": {
        "id": "E5GRkRQu9-Nd"
      }
    },
    {
      "cell_type": "code",
      "metadata": {
        "colab": {
          "base_uri": "https://localhost:8080/"
        },
        "id": "iaCjypDr0t7O",
        "outputId": "cd0ef3e6-0473-462d-a0ae-753b639059b5"
      },
      "source": [
        "from google.colab import drive\n",
        "drive.mount('/content/drive')"
      ],
      "execution_count": 2,
      "outputs": [
        {
          "output_type": "stream",
          "name": "stdout",
          "text": [
            "Mounted at /content/drive\n"
          ]
        }
      ]
    },
    {
      "cell_type": "code",
      "source": [
        "data_folder = \"/content/drive/MyDrive/Colab Notebooks/ML/ML3/\""
      ],
      "metadata": {
        "id": "WxWR75bj3Can"
      },
      "execution_count": 3,
      "outputs": []
    },
    {
      "cell_type": "code",
      "metadata": {
        "id": "RY_ZnARrtjBO"
      },
      "source": [
        "# read the label csv and store in \"label_data_dict\" dictionary\n",
        "label_data = pd.read_csv(data_folder+\"cxr_label_train.csv\")\n",
        "\n",
        "patient_id = label_data.loc[:,'PATIENT ID'].values\n",
        "hospital_outcome= label_data.loc[:,'hospital_outcome'].values\n",
        "\n",
        "label_data_dict = {}\n",
        "\n",
        "for i in range(len(patient_id)):\n",
        "  id = patient_id[i]\n",
        "  outcome = hospital_outcome[i]\n",
        "  label_data_dict[id] = outcome\n",
        "  "
      ],
      "execution_count": 4,
      "outputs": []
    },
    {
      "cell_type": "markdown",
      "source": [
        "# Dataset"
      ],
      "metadata": {
        "id": "hhYcpJKp-E0N"
      }
    },
    {
      "cell_type": "code",
      "source": [
        "# dataset imbalance\n",
        "neg, pos = np.bincount(label_data['hospital_outcome'])\n",
        "total = neg + pos\n",
        "print('Examples:\\n    Total: {}\\n    Positive: {} ({:.2f}% of total)\\n'.format(\n",
        "    total, pos, 100 * pos / total))"
      ],
      "metadata": {
        "colab": {
          "base_uri": "https://localhost:8080/"
        },
        "id": "jVg4pQzU5S4F",
        "outputId": "ecf2eb7e-0e48-4a8a-bbb2-26a9e21b374e"
      },
      "execution_count": 5,
      "outputs": [
        {
          "output_type": "stream",
          "name": "stdout",
          "text": [
            "Examples:\n",
            "    Total: 1393\n",
            "    Positive: 164 (11.77% of total)\n",
            "\n"
          ]
        }
      ]
    },
    {
      "cell_type": "code",
      "metadata": {
        "id": "je7vEydR5Uqe"
      },
      "source": [
        "## separate the files into alive and expired folder\n",
        "# from shutil import copyfile\n",
        "# for fname in os.listdir(data_folder+'IML_CXR'):\n",
        "#   source = data_folder+'IML_CXR/'+fname\n",
        "#   if label_data_dict[int((fname.split('.'))[0])] == 1:\n",
        "#     des = data_folder+'IML_CXR_TRAIN/alive/'+fname\n",
        "#     if not os.path.exists(data_folder+'IML_CXR_TRAIN/alive'):\n",
        "#       os.makedirs(data_folder+'IML_CXR_TRAIN/alive')\n",
        "#     copyfile(source,des)\n",
        "#   else:\n",
        "#     if not os.path.exists(data_folder+'IML_CXR_TRAIN/expired'):\n",
        "#       os.makedirs(data_folder+'IML_CXR_TRAIN/expired')\n",
        "#     des = data_folder+'IML_CXR_TRAIN/expired/'+fname\n",
        "#     copyfile(source,des)  "
      ],
      "execution_count": 7,
      "outputs": []
    },
    {
      "cell_type": "code",
      "source": [
        "totalFiles = 0\n",
        "totalDir = 0\n",
        "for base, dirs, files in os.walk(data_folder+'IML_CXR_TRAIN'):\n",
        "    print('Searching in : ',base)\n",
        "    for directories in dirs:\n",
        "        totalDir += 1\n",
        "    for Files in files:\n",
        "        totalFiles += 1\n",
        "print('Total number of files',totalFiles)\n",
        "print('Total Number of directories',totalDir)\n",
        "print('Total:',(totalDir + totalFiles))"
      ],
      "metadata": {
        "colab": {
          "base_uri": "https://localhost:8080/"
        },
        "id": "dWWsuLmaPI7L",
        "outputId": "98878f08-5867-4d03-d4e8-70280adca1dc"
      },
      "execution_count": 6,
      "outputs": [
        {
          "output_type": "stream",
          "name": "stdout",
          "text": [
            "Searching in :  /content/drive/MyDrive/Colab Notebooks/ML/ML3/IML_CXR_TRAIN\n",
            "Searching in :  /content/drive/MyDrive/Colab Notebooks/ML/ML3/IML_CXR_TRAIN/alive\n",
            "Searching in :  /content/drive/MyDrive/Colab Notebooks/ML/ML3/IML_CXR_TRAIN/expired\n",
            "Total number of files 1393\n",
            "Total Number of directories 2\n",
            "Total: 1395\n"
          ]
        }
      ]
    },
    {
      "cell_type": "code",
      "metadata": {
        "id": "GqzWf38fs2O3",
        "colab": {
          "base_uri": "https://localhost:8080/"
        },
        "outputId": "7634bb12-b9fd-499d-b908-89466bd89817"
      },
      "source": [
        "# split the training and validation set\n",
        "BATCH_SIZE = 32\n",
        "IMG_SIZE = (160, 160)\n",
        "SEED = 68\n",
        "\n",
        "training_dataset = tf.keras.preprocessing.image_dataset_from_directory(\n",
        "      data_folder+'IML_CXR_TRAIN', seed=SEED, labels='inferred',\n",
        "      batch_size=BATCH_SIZE, image_size=IMG_SIZE, shuffle=True, validation_split=0.3, subset='training')\n",
        "\n",
        "validation_dataset = tf.keras.preprocessing.image_dataset_from_directory(\n",
        "    data_folder+'IML_CXR_TRAIN', seed=SEED, labels='inferred',\n",
        "    batch_size=BATCH_SIZE, image_size=IMG_SIZE, shuffle=True, validation_split=0.3, subset='validation')"
      ],
      "execution_count": 34,
      "outputs": [
        {
          "output_type": "stream",
          "name": "stdout",
          "text": [
            "Found 1393 files belonging to 2 classes.\n",
            "Using 976 files for training.\n",
            "Found 1393 files belonging to 2 classes.\n",
            "Using 417 files for validation.\n"
          ]
        }
      ]
    },
    {
      "cell_type": "code",
      "source": [
        "val_batches = tf.data.experimental.cardinality(validation_dataset)\n",
        "test_dataset = validation_dataset.take(val_batches // 5)\n",
        "validation_dataset = validation_dataset.skip(val_batches // 5)"
      ],
      "metadata": {
        "id": "W4MPFQ-DARN2"
      },
      "execution_count": 35,
      "outputs": []
    },
    {
      "cell_type": "code",
      "source": [
        "print('Number of training batches: %d' % tf.data.experimental.cardinality(training_dataset))\n",
        "print('Number of validation batches: %d' % tf.data.experimental.cardinality(validation_dataset))\n",
        "print('Number of test batches: %d' % tf.data.experimental.cardinality(test_dataset))"
      ],
      "metadata": {
        "colab": {
          "base_uri": "https://localhost:8080/"
        },
        "id": "MG1DRi4e3fB3",
        "outputId": "953a559f-6cc2-40a9-bc9e-1ab2c8edc72a"
      },
      "execution_count": 36,
      "outputs": [
        {
          "output_type": "stream",
          "name": "stdout",
          "text": [
            "Number of training batches: 31\n",
            "Number of validation batches: 12\n",
            "Number of test batches: 2\n"
          ]
        }
      ]
    },
    {
      "cell_type": "code",
      "source": [
        "#configure dataset for performance\n",
        "AUTOTUNE = tf.data.AUTOTUNE\n",
        "\n",
        "training_dataset = training_dataset.prefetch(buffer_size=AUTOTUNE)\n",
        "validation_dataset = validation_dataset.prefetch(buffer_size=AUTOTUNE)\n",
        "test_dataset = test_dataset.prefetch(buffer_size=AUTOTUNE)"
      ],
      "metadata": {
        "id": "rkNz8bgH3nrz"
      },
      "execution_count": 37,
      "outputs": []
    },
    {
      "cell_type": "markdown",
      "source": [
        "## Model layer"
      ],
      "metadata": {
        "id": "iQ498LFF7Xpx"
      }
    },
    {
      "cell_type": "code",
      "metadata": {
        "id": "YDfCcHwqF5Ov",
        "colab": {
          "base_uri": "https://localhost:8080/"
        },
        "outputId": "80e8767a-a22c-4ec1-8794-6f82748967cd"
      },
      "source": [
        "#use the transfering learning from https://www.tensorflow.org/tutorials/images/transfer_learning#evaluation_and_prediction\n",
        "data_augmentation = tf.keras.Sequential([\n",
        "  tf.keras.layers.experimental.preprocessing.RandomFlip('horizontal'),\n",
        "  tf.keras.layers.experimental.preprocessing.RandomRotation(0.15),\n",
        "])\n",
        "\n",
        "#rescale pixel values\n",
        "preprocess_input = tf.keras.applications.mobilenet_v2.preprocess_input \n",
        "\n",
        "# base model\n",
        "IMG_SHAPE = IMG_SIZE + (3,)\n",
        "base_model = tf.keras.applications.MobileNetV2(input_shape=IMG_SHAPE,\n",
        "                        include_top=False,\n",
        "                        weights='imagenet')\n",
        "\n",
        "# feature extractor\n",
        "image_batch, label_batch = next(iter(training_dataset))\n",
        "feature_batch = base_model(image_batch)\n",
        "print(feature_batch.shape)\n",
        "base_model.trainable = False\n",
        "\n",
        "# Add classification head -- convert the features to a single 1280-element vector per image\n",
        "global_average_layer = tf.keras.layers.GlobalAveragePooling2D()\n",
        "feature_batch_average = global_average_layer(feature_batch)\n",
        "print(feature_batch_average.shape)\n",
        "\n",
        "# Convert features into single prediction per image\n",
        "prediction_layer = tf.keras.layers.Dense(1)\n",
        "prediction_batch = prediction_layer(feature_batch_average)\n",
        "print(prediction_batch.shape)\n",
        "\n",
        "# build model\n",
        "inputs = tf.keras.Input(shape=(160, 160, 3))\n",
        "x = data_augmentation(inputs)\n",
        "x = preprocess_input(x)\n",
        "x = base_model(x, training=False)\n",
        "x = global_average_layer(x)\n",
        "x = tf.keras.layers.Dropout(0.4)(x)\n",
        "outputs = prediction_layer(x)\n",
        "model = tf.keras.Model(inputs, outputs)"
      ],
      "execution_count": 39,
      "outputs": [
        {
          "output_type": "stream",
          "name": "stdout",
          "text": [
            "(32, 5, 5, 1280)\n",
            "(32, 1280)\n",
            "(32, 1)\n"
          ]
        }
      ]
    },
    {
      "cell_type": "code",
      "metadata": {
        "id": "WnCJsWkbVNd5"
      },
      "source": [
        "#f1 score calculation from Internet\n",
        "from keras import backend as K\n",
        "\n",
        "def recall_m(y_true, y_pred):\n",
        "    true_positives = K.sum(K.round(K.clip(y_true * y_pred, 0, 1)))\n",
        "    possible_positives = K.sum(K.round(K.clip(y_true, 0, 1)))\n",
        "    recall = true_positives / (possible_positives + K.epsilon())\n",
        "    return recall\n",
        "\n",
        "def precision_m(y_true, y_pred):\n",
        "    true_positives = K.sum(K.round(K.clip(y_true * y_pred, 0, 1)))\n",
        "    predicted_positives = K.sum(K.round(K.clip(y_pred, 0, 1)))\n",
        "    precision = true_positives / (predicted_positives + K.epsilon())\n",
        "    return precision\n",
        "\n",
        "def f1_m(y_true, y_pred):\n",
        "    precision = precision_m(y_true, y_pred)\n",
        "    recall = recall_m(y_true, y_pred)\n",
        "    return 2*((precision*recall)/(precision+recall+K.epsilon()))\n"
      ],
      "execution_count": 40,
      "outputs": []
    },
    {
      "cell_type": "code",
      "source": [
        "model.summary()"
      ],
      "metadata": {
        "colab": {
          "base_uri": "https://localhost:8080/"
        },
        "id": "nQROrmVLA63Z",
        "outputId": "b44ce852-569d-46c1-92ca-c0a465396524"
      },
      "execution_count": 41,
      "outputs": [
        {
          "output_type": "stream",
          "name": "stdout",
          "text": [
            "Model: \"model_5\"\n",
            "_________________________________________________________________\n",
            " Layer (type)                Output Shape              Param #   \n",
            "=================================================================\n",
            " input_12 (InputLayer)       [(None, 160, 160, 3)]     0         \n",
            "                                                                 \n",
            " sequential_5 (Sequential)   (None, 160, 160, 3)       0         \n",
            "                                                                 \n",
            " tf.math.truediv_5 (TFOpLamb  (None, 160, 160, 3)      0         \n",
            " da)                                                             \n",
            "                                                                 \n",
            " tf.math.subtract_5 (TFOpLam  (None, 160, 160, 3)      0         \n",
            " bda)                                                            \n",
            "                                                                 \n",
            " mobilenetv2_1.00_160 (Funct  (None, 5, 5, 1280)       2257984   \n",
            " ional)                                                          \n",
            "                                                                 \n",
            " global_average_pooling2d_5   (None, 1280)             0         \n",
            " (GlobalAveragePooling2D)                                        \n",
            "                                                                 \n",
            " dropout_5 (Dropout)         (None, 1280)              0         \n",
            "                                                                 \n",
            " dense_5 (Dense)             (None, 1)                 1281      \n",
            "                                                                 \n",
            "=================================================================\n",
            "Total params: 2,259,265\n",
            "Trainable params: 1,281\n",
            "Non-trainable params: 2,257,984\n",
            "_________________________________________________________________\n"
          ]
        }
      ]
    },
    {
      "cell_type": "code",
      "metadata": {
        "id": "9e4if8CUITwC"
      },
      "source": [
        "base_learning_rate = 0.0001\n",
        "model.compile(optimizer=tf.keras.optimizers.Adam(learning_rate=base_learning_rate),\n",
        "              loss=tf.keras.losses.BinaryCrossentropy(from_logits=True),\n",
        "              metrics=[f1_m])\n",
        "\n",
        "initial_epochs = 100\n",
        "loss0, accuracy0 = model.evaluate(validation_dataset)\n",
        "\n",
        "print(\"initial loss: {:.2f}\".format(loss0))\n",
        "print(\"initial accuracy: {:.2f}\".format(accuracy0))\n",
        "\n",
        "history = model.fit(training_dataset,\n",
        "          epochs=initial_epochs,\n",
        "          validation_data=validation_dataset)"
      ],
      "execution_count": null,
      "outputs": []
    },
    {
      "cell_type": "markdown",
      "source": [
        "## Plot the results"
      ],
      "metadata": {
        "id": "BJzP2CpidaRI"
      }
    },
    {
      "cell_type": "code",
      "source": [
        "f1 = history.history['f1_m']\n",
        "val_f1 = history.history['val_f1_m']\n",
        "\n",
        "loss = history.history['loss']\n",
        "val_loss = history.history['val_loss']\n",
        "\n",
        "plt.figure(figsize=(8, 8))\n",
        "plt.subplot(2, 1, 1)\n",
        "plt.plot(f1, label='Training f1')\n",
        "plt.plot(val_f1, label='Validation f1')\n",
        "plt.legend(loc='lower right')\n",
        "plt.ylabel('f1')\n",
        "plt.ylim([min(plt.ylim()),1])\n",
        "plt.title('Training and Validation f1')\n",
        "\n",
        "plt.subplot(2, 1, 2)\n",
        "plt.plot(loss, label='Training Loss')\n",
        "plt.plot(val_loss, label='Validation Loss')\n",
        "plt.legend(loc='upper right')\n",
        "plt.ylabel('Cross Entropy')\n",
        "plt.ylim([0,1.0])\n",
        "plt.title('Training and Validation Loss')\n",
        "plt.xlabel('epoch')\n",
        "plt.show()"
      ],
      "metadata": {
        "id": "9MJv70NKdcQF"
      },
      "execution_count": null,
      "outputs": []
    },
    {
      "cell_type": "markdown",
      "source": [
        "## Prediction on testing dataset"
      ],
      "metadata": {
        "id": "uYewcKGkmx6f"
      }
    },
    {
      "cell_type": "code",
      "source": [
        "image_batch, label_batch = test_dataset.as_numpy_iterator().next()\n",
        "predictions = model.predict_on_batch(image_batch).flatten()\n",
        "\n",
        "predictions = tf.nn.sigmoid(predictions)\n",
        "predictions = tf.where(predictions < 0.5, 0, 1)\n",
        "\n",
        "pred = predictions.numpy()\n",
        "print(type(pred[0]))\n",
        "label = label_batch\n",
        "print(type(label[0]))\n",
        "# predictions = model.predict(test_dataset)\n",
        "test_f1 = f1_m(np.float32(label), np.float32(pred))\n",
        "print(\"f1 score on testing dataset is: \",test_f1.numpy())"
      ],
      "metadata": {
        "colab": {
          "base_uri": "https://localhost:8080/"
        },
        "id": "ZAWzTcP1iX0a",
        "outputId": "876f106e-7733-4d71-eac5-067b62945776"
      },
      "execution_count": 58,
      "outputs": [
        {
          "output_type": "stream",
          "name": "stdout",
          "text": [
            "<class 'numpy.int32'>\n",
            "<class 'numpy.int32'>\n",
            "f1 score on testing dataset is:  0.94915247\n"
          ]
        }
      ]
    },
    {
      "cell_type": "markdown",
      "source": [
        "## Predict and save the results into a csv file"
      ],
      "metadata": {
        "id": "rCBWfApadEb2"
      }
    },
    {
      "cell_type": "code",
      "metadata": {
        "id": "xRbsmLYMzYnY",
        "colab": {
          "base_uri": "https://localhost:8080/"
        },
        "outputId": "63a8dbb4-290e-4aa9-cdcf-56af06c50631"
      },
      "source": [
        "# preprocess the test data\n",
        "test_set = tf.keras.preprocessing.image_dataset_from_directory(data_folder+'IML_CXR_TEST',\n",
        "                    shuffle=False,\n",
        "                    label_mode=None,\n",
        "                    image_size=(160, 160))"
      ],
      "execution_count": 59,
      "outputs": [
        {
          "output_type": "stream",
          "name": "stdout",
          "text": [
            "Found 457 files belonging to 1 classes.\n"
          ]
        }
      ]
    },
    {
      "cell_type": "code",
      "metadata": {
        "id": "KkorkbweTEcV",
        "colab": {
          "base_uri": "https://localhost:8080/"
        },
        "outputId": "06defbf7-b9f7-4c5a-d3fc-2bfde1d74f34"
      },
      "source": [
        "#predict the hospital outcome of test data\n",
        "predictions = model.predict(test_set).flatten()\n",
        "predictions = tf.nn.sigmoid(predictions)\n",
        "predictions = tf.where(predictions < 0.5, 0, 1)\n",
        "\n",
        "pred = predictions.numpy()\n",
        "print(pred)"
      ],
      "execution_count": 61,
      "outputs": [
        {
          "output_type": "stream",
          "name": "stdout",
          "text": [
            "[1 1 1 1 1 1 1 1 1 1 1 1 1 1 1 1 1 1 1 1 1 1 1 1 1 1 1 1 1 1 1 1 1 1 1 1 1\n",
            " 1 1 1 1 1 1 1 1 1 1 1 1 1 1 1 1 1 1 1 1 1 1 1 1 1 1 1 1 1 1 1 1 1 1 1 1 1\n",
            " 1 1 1 1 1 1 1 1 1 1 1 1 1 1 1 1 1 1 1 1 1 1 1 1 1 1 1 1 1 1 1 1 1 1 1 1 1\n",
            " 1 1 1 1 1 1 1 1 1 1 1 1 1 1 1 1 1 1 1 1 1 1 1 1 1 1 1 1 1 1 1 1 1 1 1 1 1\n",
            " 1 1 1 1 1 1 1 1 1 1 1 1 1 1 1 1 1 1 1 1 1 1 1 1 1 1 1 1 1 1 1 1 1 1 1 1 1\n",
            " 1 1 1 1 1 1 1 1 1 1 1 1 1 1 1 1 1 1 1 1 1 1 1 1 1 1 1 1 1 1 1 1 1 1 1 1 1\n",
            " 1 1 1 1 1 1 1 1 1 0 1 1 1 1 1 1 1 1 1 1 1 1 1 1 1 1 1 1 1 1 1 1 0 1 1 1 1\n",
            " 1 1 1 1 1 1 1 1 1 1 1 1 1 1 1 1 1 1 1 1 1 1 1 1 1 1 1 1 1 1 1 1 1 1 1 1 1\n",
            " 1 1 1 0 1 1 1 1 1 1 0 1 1 1 1 1 1 1 1 1 1 1 1 1 1 1 1 1 1 1 1 1 1 1 1 1 1\n",
            " 1 1 1 1 1 1 1 1 1 1 1 1 1 1 1 1 1 1 1 1 1 1 1 0 1 1 1 1 1 1 0 1 1 1 1 1 1\n",
            " 1 1 1 1 1 1 1 1 1 1 1 1 1 1 1 1 1 1 1 1 1 1 1 1 1 1 1 1 1 1 1 1 1 1 1 1 1\n",
            " 1 1 1 1 1 1 0 1 1 1 1 1 1 1 1 1 1 1 1 1 1 1 1 1 1 1 1 1 1 1 1 1 1 1 1 1 1\n",
            " 1 1 1 1 1 1 1 1 1 1 1 1 1]\n"
          ]
        }
      ]
    },
    {
      "cell_type": "code",
      "metadata": {
        "id": "guSwX28W3RgF"
      },
      "source": [
        "#write the predicted data into csv file\n",
        "PATIENT_ID = []\n",
        "result_dic={}\n",
        "for fname in os.listdir(data_folder+'IML_CXR_TEST'):\n",
        "  PATIENT_ID.append(int((fname.split('.'))[0])) \n",
        "PATIENT_ID.sort()\n",
        "\n",
        "count=0\n",
        "for i in PATIENT_ID:\n",
        "  result_dic[i] = pred[count]\n",
        "  count=count+1\n",
        "with open(data_folder+'student_ID.csv', 'w') as f:\n",
        "  f.write(\"PATIENT_ID, hospital_outcome\\n\")\n",
        "  for key in PATIENT_ID:\n",
        "    f.write(\"%s,%s\\n\"%(key,result_dic[key]))"
      ],
      "execution_count": 65,
      "outputs": []
    }
  ]
}